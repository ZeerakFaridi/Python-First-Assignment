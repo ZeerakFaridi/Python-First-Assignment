{
 "cells": [
  {
   "cell_type": "code",
   "execution_count": 3,
   "metadata": {},
   "outputs": [
    {
     "name": "stdout",
     "output_type": "stream",
     "text": [
      "Enter Marks of First Subject :50\n",
      "Enter Marks of Second Subject :50\n",
      "Enter Marks of Third Subject :50\n",
      "Enter Marks of Fourth Subject :50\n",
      "Enter Marks of Five Subject :50\n"
     ]
    },
    {
     "ename": "TypeError",
     "evalue": "unsupported operand type(s) for &: 'int' and 'float'",
     "output_type": "error",
     "traceback": [
      "\u001b[1;31m---------------------------------------------------------------------------\u001b[0m",
      "\u001b[1;31mTypeError\u001b[0m                                 Traceback (most recent call last)",
      "\u001b[1;32m<ipython-input-3-47cfb123c6f2>\u001b[0m in \u001b[0;36m<module>\u001b[1;34m\u001b[0m\n\u001b[0;32m      8\u001b[0m \u001b[1;32mif\u001b[0m \u001b[1;33m(\u001b[0m\u001b[0maverage\u001b[0m\u001b[1;33m>=\u001b[0m\u001b[1;36m90\u001b[0m\u001b[1;33m)\u001b[0m\u001b[1;33m:\u001b[0m\u001b[1;33m\u001b[0m\u001b[1;33m\u001b[0m\u001b[0m\n\u001b[0;32m      9\u001b[0m                 \u001b[0mprint\u001b[0m\u001b[1;33m(\u001b[0m\u001b[1;34m\"Grade is A\"\u001b[0m\u001b[1;33m)\u001b[0m\u001b[1;33m\u001b[0m\u001b[1;33m\u001b[0m\u001b[0m\n\u001b[1;32m---> 10\u001b[1;33m \u001b[1;32melif\u001b[0m \u001b[1;33m(\u001b[0m\u001b[0maverage\u001b[0m\u001b[1;33m>=\u001b[0m\u001b[1;36m80\u001b[0m \u001b[1;33m&\u001b[0m \u001b[0maverage\u001b[0m\u001b[1;33m<\u001b[0m\u001b[1;36m90\u001b[0m\u001b[1;33m)\u001b[0m\u001b[1;33m:\u001b[0m\u001b[1;33m\u001b[0m\u001b[1;33m\u001b[0m\u001b[0m\n\u001b[0m\u001b[0;32m     11\u001b[0m                 \u001b[0mprint\u001b[0m\u001b[1;33m(\u001b[0m\u001b[1;34m\"Grade is B\"\u001b[0m\u001b[1;33m)\u001b[0m\u001b[1;33m\u001b[0m\u001b[1;33m\u001b[0m\u001b[0m\n\u001b[0;32m     12\u001b[0m \u001b[1;32melif\u001b[0m \u001b[1;33m(\u001b[0m\u001b[0maverage\u001b[0m\u001b[1;33m>=\u001b[0m\u001b[1;36m70\u001b[0m \u001b[1;33m&\u001b[0m \u001b[0maverage\u001b[0m\u001b[1;33m<\u001b[0m\u001b[1;36m80\u001b[0m\u001b[1;33m)\u001b[0m\u001b[1;33m:\u001b[0m\u001b[1;33m\u001b[0m\u001b[1;33m\u001b[0m\u001b[0m\n",
      "\u001b[1;31mTypeError\u001b[0m: unsupported operand type(s) for &: 'int' and 'float'"
     ]
    }
   ],
   "source": [
    "#Task1\n",
    "subject1=int(input(\"Enter Marks of First Subject :\"))\n",
    "subject2=int(input(\"Enter Marks of Second Subject :\"))\n",
    "subject3=int(input(\"Enter Marks of Third Subject :\"))\n",
    "subject4=int(input(\"Enter Marks of Fourth Subject :\"))\n",
    "subject5=int(input(\"Enter Marks of Five Subject :\"))\n",
    "average=(subject1+subject2+subject3+subject4+subject5)/5\n",
    "if (average>=90):\n",
    "                print(\"Grade is A\")\n",
    "elif (average>=80 & average<90):\n",
    "                print(\"Grade is B\")\n",
    "elif (average>=70 & average<80):\n",
    "                print(\"Grade is C\")\n",
    "elif (average>=60 & average<70):\n",
    "                print(\"Grade is C\")\n",
    "elif (average>=50 & average<60):\n",
    "                print(\"Grade is D\")\n",
    "else :\n",
    "                print(\"Grade is Fail\")\n",
    "\n"
   ]
  },
  {
   "cell_type": "code",
   "execution_count": 6,
   "metadata": {},
   "outputs": [
    {
     "ename": "SyntaxError",
     "evalue": "EOL while scanning string literal (<ipython-input-6-26b3f89f0ede>, line 5)",
     "output_type": "error",
     "traceback": [
      "\u001b[1;36m  File \u001b[1;32m\"<ipython-input-6-26b3f89f0ede>\"\u001b[1;36m, line \u001b[1;32m5\u001b[0m\n\u001b[1;33m    print(n,\"is Odd)\u001b[0m\n\u001b[1;37m                    ^\u001b[0m\n\u001b[1;31mSyntaxError\u001b[0m\u001b[1;31m:\u001b[0m EOL while scanning string literal\n"
     ]
    }
   ],
   "source": [
    "#Task2\n",
    "n=int(input(\"Enter Number:\"))\n",
    "if n%2==0 :\n",
    "      print(n,\"is Even\")\n",
    "else :\n",
    "    print(n,\"is Odd)"
   ]
  },
  {
   "cell_type": "code",
   "execution_count": 7,
   "metadata": {},
   "outputs": [
    {
     "name": "stdout",
     "output_type": "stream",
     "text": [
      "10\n"
     ]
    }
   ],
   "source": [
    "#Task3\n",
    "List = [1,2,3,4]\n",
    "Total = sum(List)\n",
    "print(Total)"
   ]
  },
  {
   "cell_type": "code",
   "execution_count": 15,
   "metadata": {},
   "outputs": [
    {
     "ename": "SyntaxError",
     "evalue": "invalid syntax (<ipython-input-15-4ee4c474e6d1>, line 4)",
     "output_type": "error",
     "traceback": [
      "\u001b[1;36m  File \u001b[1;32m\"<ipython-input-15-4ee4c474e6d1>\"\u001b[1;36m, line \u001b[1;32m4\u001b[0m\n\u001b[1;33m    for i in range(1,n+1)\u001b[0m\n\u001b[1;37m                         ^\u001b[0m\n\u001b[1;31mSyntaxError\u001b[0m\u001b[1;31m:\u001b[0m invalid syntax\n"
     ]
    }
   ],
   "source": [
    "#Task4\n",
    "int[a]\n",
    "n=int(input(\"Enter Number of Elements\"))\n",
    "for i in range(1,n+1)\n",
    "    b=int(input(\"Enter Element:\"))\n",
    "    a.appent(b)\n",
    "    a.sort()\n",
    "    \n",
    "    print(\"Largest Number in List is\",a[n-1])"
   ]
  },
  {
   "cell_type": "code",
   "execution_count": 16,
   "metadata": {},
   "outputs": [
    {
     "ename": "SyntaxError",
     "evalue": "invalid syntax (<ipython-input-16-f318742c9eed>, line 2)",
     "output_type": "error",
     "traceback": [
      "\u001b[1;36m  File \u001b[1;32m\"<ipython-input-16-f318742c9eed>\"\u001b[1;36m, line \u001b[1;32m2\u001b[0m\n\u001b[1;33m    dif findel():\u001b[0m\n\u001b[1;37m             ^\u001b[0m\n\u001b[1;31mSyntaxError\u001b[0m\u001b[1;31m:\u001b[0m invalid syntax\n"
     ]
    }
   ],
   "source": [
    "#Task5\n",
    "dif findel():\n",
    "    for x in a:\n",
    "        if x<5:\n",
    "            print(x)\n",
    "print(\"Enter List Of Numbers:\")\n",
    "a[int(x) for x in input().split()]\n",
    "findel()"
   ]
  },
  {
   "cell_type": "code",
   "execution_count": null,
   "metadata": {},
   "outputs": [],
   "source": []
  }
 ],
 "metadata": {
  "kernelspec": {
   "display_name": "Python 3",
   "language": "python",
   "name": "python3"
  },
  "language_info": {
   "codemirror_mode": {
    "name": "ipython",
    "version": 3
   },
   "file_extension": ".py",
   "mimetype": "text/x-python",
   "name": "python",
   "nbconvert_exporter": "python",
   "pygments_lexer": "ipython3",
   "version": "3.7.4"
  }
 },
 "nbformat": 4,
 "nbformat_minor": 2
}
