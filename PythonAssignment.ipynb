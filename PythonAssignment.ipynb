{
 "cells": [
  {
   "cell_type": "code",
   "execution_count": 3,
   "metadata": {},
   "outputs": [
    {
     "name": "stdout",
     "output_type": "stream",
     "text": [
      "Twinkle, twinkle, little star,\n",
      "\tHow I wonder what you are!\n",
      "\t\tUp above the world so high,\n",
      "\t\tLike a diamond in the sky.\n",
      "Twinkle, twinkle, little star,\n",
      "\tHow I wonder what you are\n"
     ]
    }
   ],
   "source": [
    "# Question : 1\n",
    "print(\"Twinkle, twinkle, little star,\"+\"\\n\\t\"+\"How I wonder what you are!\"+\"\\n\\t\\t\"+\"Up above the world so high,\"+\"\\n\\t\\t\"+\"Like a diamond in the sky.\"+\"\\n\"+\"Twinkle, twinkle, little star,\"+\"\\n\\t\"+\"How I wonder what you are\")"
   ]
  },
  {
   "cell_type": "code",
   "execution_count": 4,
   "metadata": {},
   "outputs": [
    {
     "name": "stdout",
     "output_type": "stream",
     "text": [
      "I am using PYTHON 3\n"
     ]
    }
   ],
   "source": [
    "#Question :2\n",
    "print(\"I am using PYTHON 3\")"
   ]
  },
  {
   "cell_type": "code",
   "execution_count": 6,
   "metadata": {},
   "outputs": [
    {
     "name": "stdout",
     "output_type": "stream",
     "text": [
      "2019-11-04 01:09:52.989802\n"
     ]
    }
   ],
   "source": [
    "# Question 3\n",
    "from datetime import datetime\n",
    "now = datetime.now()\n",
    "print(now)"
   ]
  },
  {
   "cell_type": "code",
   "execution_count": 27,
   "metadata": {},
   "outputs": [
    {
     "name": "stdout",
     "output_type": "stream",
     "text": [
      "Enter the radius of circle :5\n",
      "The Area Of Circle is 78.55\n"
     ]
    }
   ],
   "source": [
    "# Question 4\n",
    "radius= input (\"Enter the radius of circle :\")\n",
    "r =int (radius)\n",
    "area = 3.142*r*r\n",
    "print(\"The Area Of Circle is\" +\" \"+ str(area))"
   ]
  },
  {
   "cell_type": "code",
   "execution_count": 28,
   "metadata": {},
   "outputs": [
    {
     "name": "stdout",
     "output_type": "stream",
     "text": [
      "Enter Your First Name :zeerak\n",
      "Enter YOur Last Name :faridi\n",
      "faridi zeerak\n"
     ]
    }
   ],
   "source": [
    "# Question 5\n",
    "firstname=input(\"Enter Your First Name :\")\n",
    "secondname=input(\"Enter YOur Last Name :\")\n",
    "print(secondname+\" \"+firstname)"
   ]
  },
  {
   "cell_type": "code",
   "execution_count": 33,
   "metadata": {},
   "outputs": [
    {
     "name": "stdout",
     "output_type": "stream",
     "text": [
      "Enter First Number :5\n",
      "Enter Second Number :5\n",
      "add 10\n"
     ]
    }
   ],
   "source": [
    "# Question 6\n",
    "num1=int(input(\"Enter First Number :\"))\n",
    "num2=int(input(\"Enter Second Number :\"))\n",
    "add=num1+num2\n",
    "print(\"Addition of Two numbers is :\",add)"
   ]
  },
  {
   "cell_type": "code",
   "execution_count": null,
   "metadata": {},
   "outputs": [],
   "source": []
  }
 ],
 "metadata": {
  "kernelspec": {
   "display_name": "Python 3",
   "language": "python",
   "name": "python3"
  },
  "language_info": {
   "codemirror_mode": {
    "name": "ipython",
    "version": 3
   },
   "file_extension": ".py",
   "mimetype": "text/x-python",
   "name": "python",
   "nbconvert_exporter": "python",
   "pygments_lexer": "ipython3",
   "version": "3.7.4"
  }
 },
 "nbformat": 4,
 "nbformat_minor": 2
}
